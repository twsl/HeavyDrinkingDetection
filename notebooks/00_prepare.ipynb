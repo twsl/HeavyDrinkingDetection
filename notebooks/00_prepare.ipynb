{
 "cells": [
  {
   "cell_type": "code",
   "execution_count": 1,
   "metadata": {},
   "outputs": [],
   "source": [
    "import requests\n",
    "import zipfile\n",
    "import os"
   ]
  },
  {
   "cell_type": "code",
   "execution_count": 2,
   "metadata": {},
   "outputs": [],
   "source": [
    "url = 'https://archive.ics.uci.edu/ml/machine-learning-databases/00515/data.zip'\n",
    "r = requests.get(url)\n",
    "\n",
    "path = os.path.join('..', 'data', 'raw')\n",
    "if not os.path.exists(path):\n",
    "    os.makedirs(path)\n",
    "\n",
    "filepath = os.path.join(path, 'data.zip')\n",
    "\n",
    "with open(filepath, 'wb') as f:\n",
    "    f.write(r.content)"
   ]
  },
  {
   "cell_type": "code",
   "execution_count": 3,
   "metadata": {},
   "outputs": [],
   "source": [
    "with zipfile.ZipFile(filepath, 'r') as zip_ref:\n",
    "    zip_ref.extractall(path)"
   ]
  },
  {
   "cell_type": "markdown",
   "metadata": {},
   "source": [
    "# Fix for lowercase name"
   ]
  },
  {
   "cell_type": "code",
   "execution_count": 4,
   "metadata": {},
   "outputs": [],
   "source": [
    "raw_tac_path = os.path.join('..', 'data', 'raw', 'raw_tac')\n",
    "\n",
    "for file in os.listdir(raw_tac_path):\n",
    "    if '.xlsx' in file:\n",
    "        new = list(file)\n",
    "        new[11] = 'R'\n",
    "        new = \"\".join(new)\n",
    "        os.rename(os.path.join(raw_tac_path, file), os.path.join(raw_tac_path, new))"
   ]
  },
  {
   "cell_type": "code",
   "execution_count": 5,
   "metadata": {
    "scrolled": false
   },
   "outputs": [
    {
     "name": "stdout",
     "output_type": "stream",
     "text": [
      "1. Database Description:\n",
      "    (a) Title\n",
      "        Bar Crawl: Detecting Heavy Drinking\n",
      "    (b) Abstract\n",
      "        Accelerometer and transdermal alcohol content data from a college bar crawl. Used to predict heavy drinking episodes via mobile data.\n",
      "\n",
      "2. Sources:\n",
      "   (a) Owner of database\n",
      "       Jackson A Killian (jkillian@g.harvard.edu, Harvard University); Danielle R Madden (University of Southern California); John Clapp (University of Southern California)\n",
      "   (b) Donor of database\n",
      "       Jackson A Killian (jkillian@g.harvard.edu, Harvard University); Danielle R Madden (University of Southern California); John Clapp (University of Southern California)\n",
      "   (c) Date collected\n",
      "       May 2017\n",
      "   (d) Date submitted\n",
      "       Jan 2020\n",
      "\n",
      "3. Past Usage:\n",
      "   (a) Complete reference of article where it was described/used: \n",
      "       Killian, J.A., Passino, K.M., Nandi, A., Madden, D.R. and Clapp, J., Learning to Detect Heavy Drinking Episodes Using Smartphone Accelerometer Data. In Proceedings of the 4th International Workshop on Knowledge Discovery in Healthcare Data co-located with the 28th International Joint Conference on Artificial Intelligence (IJCAI 2019) (pp. 35-42). http://ceur-ws.org/Vol-2429/paper6.pdf\n",
      "   (b) Indication of what attribute(s) were being predicted\n",
      "       Features: Three-axis time series accelerometer data\n",
      "       Target: Time series transdermal alcohol content (TAC) data (real-time measure of intoxication)\n",
      "   (c) Indication of study's results\n",
      "       The study decomposed each time series into 10 second windows and performed binary classification to predict if windows corresponded to an intoxicated participant (TAC >= 0.08) or sober participant (TAC < 0.08). The study tested several models and achieved a test accuracy of 77.5% with a random forest.\n",
      "\n",
      "4. Relevant Information:\n",
      "    All data is fully anonymized.\n",
      "\n",
      "    Data was originally collected from 19 participants, but the TAC readings of 6 participants were deemed unusable by SCRAM [1]. The data included is from the remaining 13 participants.\n",
      "   \n",
      "    Accelerometer data was collected from smartphones at a sampling rate of 40Hz (file: all_accelerometer_data_pids_13.csv). The file contains 5 columns: a timestamp, a participant ID, and a sample from each axis of the accelerometer. Data was collected from a mix of 11 iPhones and 2 Android phones as noted in phone_types.csv. TAC data was collected using SCRAM [2] ankle bracelets and was collected at 30 minute intervals. The raw TAC readings are in the raw_tac directory. TAC readings which are more readily usable for processing are in clean_tac directory and have two columns: a timestamp and TAC reading. The cleaned TAC readings: (1) were processed with a zero-phase low-pass filter to smooth noise without shifting phase; (2) were shifted backwards by 45 minutes so the labels more closely match the true intoxication of the participant (since alcohol takes about 45 minutes to exit through the skin.) Please see the above referenced study for more details on how the data was processed (http://ceur-ws.org/Vol-2429/paper6.pdf).\n",
      "\n",
      "    1 - https://www.scramsystems.com/\n",
      "    2 - J. Robert Zettl. The determination of blood alcohol concentration by transdermal measurement. https://www.scramsystems.com/images/uploads/general/research/the-determination-of-blood-alcohol-concentrationby-transdermal-measurement.pdf, 2002.\n",
      "\n",
      "5. Number of Instances:\n",
      "    Accelerometer readings: 14,057,567\n",
      "    TAC readings: 715\n",
      "    Participants: 13\n",
      "\n",
      "6. Number of Attributes:\n",
      "    - Time series: 3 axes of accelerometer data (columns x, y, z in all_accelerometer_data_pids_13.csv)\n",
      "    - Static: 1 phone-type feature (in phone_types.csv)\n",
      "    - Target: 1 time series of TAC for each of the 13 participants (in clean_tac directory).\n",
      "\n",
      "7. For Each Attribute:\n",
      "    (Main)\n",
      "    all_accelerometer_data_pids_13.csv:\n",
      "        time: integer, unix timestamp, milliseconds\n",
      "        pid: symbolic, 13 categories listed in pids.txt \n",
      "        x: continuous, time-series\n",
      "        y: continuous, time-series\n",
      "        z: continuous, time-series\n",
      "    clean_tac/*.csv:\n",
      "        timestamp: integer, unix timestamp, seconds\n",
      "        TAC_Reading: continuous, time-series\n",
      "    phone_type.csv:\n",
      "        pid: symbolic, 13 categories listed in pids.txt \n",
      "        phonetype: symbolic, 2 categories (iPhone, Android)\n",
      "    \n",
      "    (Other)\n",
      "    raw/*.xlsx:\n",
      "        TAC Level: continuous, time-series\n",
      "        IR Voltage: continuous, time-series\n",
      "        Temperature: continuous, time-series\n",
      "        Time: datetime\n",
      "        Date: datetime\n",
      "\n",
      "8. Missing Attribute Values:\n",
      "None\n",
      "\n",
      "9. Target Distribution:\n",
      "    TAC is measured in g/dl where 0.08 is the legal limit for intoxication while driving\n",
      "    Mean TAC: 0.065 +/- 0.182\n",
      "    Max TAC: 0.443\n",
      "    TAC Inner Quartiles: 0.002, 0.029, 0.092\n",
      "    Mean Time-to-last-drink: 16.1 +/- 6.9 hrs\n",
      "\n"
     ]
    }
   ],
   "source": [
    "url = 'https://archive.ics.uci.edu/ml/machine-learning-databases/00515/Readme.txt'\n",
    "r = requests.get(url)\n",
    "\n",
    "print(r.content.decode(\"utf-8\"))"
   ]
  },
  {
   "cell_type": "markdown",
   "metadata": {},
   "source": [
    "http://ceur-ws.org/Vol-2429/paper6.pdf"
   ]
  }
 ],
 "metadata": {
  "kernelspec": {
   "display_name": "Python 3",
   "language": "python",
   "name": "python3"
  },
  "language_info": {
   "codemirror_mode": {
    "name": "ipython",
    "version": 3
   },
   "file_extension": ".py",
   "mimetype": "text/x-python",
   "name": "python",
   "nbconvert_exporter": "python",
   "pygments_lexer": "ipython3",
   "version": "3.8.3"
  }
 },
 "nbformat": 4,
 "nbformat_minor": 4
}
