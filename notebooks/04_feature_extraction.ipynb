{
 "cells": [
  {
   "cell_type": "code",
   "execution_count": null,
   "metadata": {},
   "outputs": [],
   "source": [
    "#!conda install -c conda-forge entropy -y"
   ]
  },
  {
   "cell_type": "code",
   "execution_count": 5,
   "metadata": {},
   "outputs": [],
   "source": [
    "#!conda install -c conda-forge librosa -y"
   ]
  },
  {
   "cell_type": "code",
   "execution_count": 6,
   "metadata": {},
   "outputs": [
    {
     "name": "stderr",
     "output_type": "stream",
     "text": [
      "B:\\Anaconda3\\envs\\abv\\lib\\site-packages\\librosa\\util\\decorators.py:9: NumbaDeprecationWarning: \u001b[1mAn import was requested from a module that has moved location.\n",
      "Import of 'jit' requested from: 'numba.decorators', please update to use 'numba.core.decorators' or pin to Numba version 0.48.0. This alias will not be present in Numba version 0.50.0.\u001b[0m\n",
      "  from numba.decorators import jit as optional_jit\n"
     ]
    }
   ],
   "source": [
    "import os\n",
    "import pandas as pd\n",
    "import numpy as np\n",
    "import matplotlib.pyplot as plt3\n",
    "from numpy.lib.stride_tricks import as_strided as ast\n",
    "from entropy import *\n",
    "from librosa.feature import *"
   ]
  },
  {
   "cell_type": "markdown",
   "metadata": {},
   "source": [
    "# Feature extraction functions"
   ]
  },
  {
   "cell_type": "code",
   "execution_count": 7,
   "metadata": {},
   "outputs": [],
   "source": [
    "# https://datascience.stackexchange.com/questions/21934/feature-extraction-of-accelerometer-data-for-machine-learning\n",
    "\n",
    "# spectral_entropy\n",
    "# https://raphaelvallat.com/entropy/build/html/generated/entropy.spectral_entropy.html\n",
    "\n",
    "# spectral centroid\n",
    "# https://librosa.org/librosa/generated/librosa.feature.spectral_centroid.html\n",
    "\n",
    "# pywavelet\n",
    "# https://pywavelets.readthedocs.io/en/latest/\n",
    "\n",
    "# scipy.signal\n",
    "# https://docs.scipy.org/doc/scipy/reference/signal.html\n",
    "\n",
    "# window functions and standard statistic functions\n",
    "# https://pandas.pydata.org/pandas-docs/stable/user_guide/computation.html#window-functions"
   ]
  },
  {
   "cell_type": "code",
   "execution_count": 8,
   "metadata": {},
   "outputs": [],
   "source": [
    "def make_cols(cols:list, ftr:str ):\n",
    "    for i, c in enumerate(cols):\n",
    "        cols[i] = c+f'_{ftr}'\n",
    "    return cols"
   ]
  },
  {
   "cell_type": "code",
   "execution_count": 9,
   "metadata": {},
   "outputs": [],
   "source": [
    "def extract_feature(df, fnc, drop_cols):\n",
    "    temp = df.copy()\n",
    "    temp = temp.drop(columns=drop_cols)\n",
    "    window = temp.rolling('60000ms').apply(fnc)\n",
    "    return window"
   ]
  },
  {
   "cell_type": "code",
   "execution_count": 12,
   "metadata": {
    "scrolled": false
   },
   "outputs": [
    {
     "name": "stdout",
     "output_type": "stream",
     "text": [
      "HV0618_4.csv\n",
      "spectral_centroid\n",
      "min\n",
      "max\n",
      "median\n",
      "quantiles\n",
      "std\n",
      "x_mean                 0\n",
      "y_mean                 0\n",
      "z_mean                 0\n",
      "tac_clean_mean         0\n",
      "tac_raw_mean           0\n",
      "x_spectral_centroid    0\n",
      "y_spectral_centroid    0\n",
      "z_spectral_centroid    0\n",
      "x_min                  0\n",
      "y_min                  0\n",
      "z_min                  0\n",
      "tac_clean_min          0\n",
      "tac_raw_min            0\n",
      "x_max                  0\n",
      "y_max                  0\n",
      "z_max                  0\n",
      "tac_clean_max          0\n",
      "tac_raw_max            0\n",
      "x_median               0\n",
      "y_median               0\n",
      "z_median               0\n",
      "tac_clean_median       0\n",
      "tac_raw_median         0\n",
      "x_quantiles            0\n",
      "y_quantiles            0\n",
      "z_quantiles            0\n",
      "tac_clean_quantiles    0\n",
      "tac_raw_quantiles      0\n",
      "x_std                  0\n",
      "y_std                  0\n",
      "z_std                  0\n",
      "tac_clean_std          0\n",
      "tac_raw_std            0\n",
      "dtype: int64\n",
      "shape: (754, 33)\n"
     ]
    }
   ],
   "source": [
    "data_path = os.path.join('..','data','interim','no_gaps')\n",
    "for ds in ['HV0618_4.csv']: #os.listdir(data_path):\n",
    "#     ds = 'BK7610_1.csv' \n",
    "\n",
    "    print(ds)\n",
    "    df = pd.read_csv(os.path.join(data_path,ds))\n",
    "    drop_cols = ['ir_voltage','temperature']\n",
    "    df = df.drop(columns=drop_cols)\n",
    "    if df.shape[0] < 60:\n",
    "        continue\n",
    "    df.head\n",
    "    \n",
    "    df['timestamp'] = pd.to_datetime(df['timestamp'])\n",
    "    df = df.set_index('timestamp') \n",
    "    ### Time window using pandas Rolling, we can use with different functions for the windows (Timebased)\n",
    "    mean_window = df.rolling('60000ms').mean()\n",
    "    ndf = mean_window.copy()\n",
    "    ncols = make_cols(list(ndf.columns),'mean')\n",
    "    ndf.columns = ncols\n",
    "    \n",
    "    fncs = {'spectral_centroid': (lambda x: spectral_centroid(x.to_numpy(copy=True), sr=40, hop_length=x.shape[0]+1), ['tac_clean', 'tac_raw']),\n",
    "#             'spectral_entropy': (lambda x: spectral_entropy(x, 40, method='fft', normalize=True), ['tac_clean', 'tac_raw']),\n",
    "            'min': (lambda x: x.min(),[]),\n",
    "            'max': (lambda x: x.max(),[]),\n",
    "            'median': (lambda x: x.max(),[]),\n",
    "            'quantiles': (lambda x: x.quantile(),[]),\n",
    "            'std': (lambda x: x.std(ddof=0),[])\n",
    "           }\n",
    "    # Go through the list of functions and add results to the big dataframe\n",
    "    for name, (fnc, drop_cols) in fncs.items():\n",
    "        print(name)\n",
    "        window = extract_feature(df, fnc, drop_cols)\n",
    "        ncols = make_cols(list(window.columns), name)\n",
    "        window.columns = ncols\n",
    "        # add it to the big dataframe\n",
    "        ndf = ndf.merge(window, left_index =True, right_index=True)\n",
    "print(ndf.isna().sum())\n",
    "print(f'shape: {ndf.shape}')\n",
    "        \n",
    "        \n",
    "#     print(f'{df.head} \\n {ndf.head}')       \n",
    "#     print(f'{window.shape} \\n {mean_window.shape}')\n",
    "          \n",
    "    "
   ]
  },
  {
   "cell_type": "code",
   "execution_count": 11,
   "metadata": {},
   "outputs": [
    {
     "data": {
      "text/plain": [
       "<matplotlib.axes._subplots.AxesSubplot at 0x11a0f987e10>"
      ]
     },
     "execution_count": 11,
     "metadata": {},
     "output_type": "execute_result"
    },
    {
     "data": {
      "image/png": "[encoded data removed]",
      "text/plain": [
       "<Figure size 432x288 with 1 Axes>"
      ]
     },
     "metadata": {
      "needs_background": "light"
     },
     "output_type": "display_data"
    }
   ],
   "source": [
    "ndf.tac_clean_mean.plot()"
   ]
  }
 ],
 "metadata": {
  "kernelspec": {
   "display_name": "Python 3",
   "language": "python",
   "name": "python3"
  },
  "language_info": {
   "codemirror_mode": {
    "name": "ipython",
    "version": 3
   },
   "file_extension": ".py",
   "mimetype": "text/x-python",
   "name": "python",
   "nbconvert_exporter": "python",
   "pygments_lexer": "ipython3",
   "version": "3.6.10"
  }
 },
 "nbformat": 4,
 "nbformat_minor": 4
}
